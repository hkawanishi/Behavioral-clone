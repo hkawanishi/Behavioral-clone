{
 "cells": [
  {
   "cell_type": "code",
   "execution_count": 1,
   "metadata": {
    "collapsed": false
   },
   "outputs": [
    {
     "name": "stdout",
     "output_type": "stream",
     "text": [
      "Modules loaded.\n"
     ]
    }
   ],
   "source": [
    "# Behavioral Cloning \n",
    "\n",
    "import numpy as np\n",
    "import math\n",
    "\n",
    "# Fix error with TF and Keras\n",
    "import tensorflow as tf\n",
    "tf.python.control_flow_ops = tf\n",
    "\n",
    "print('Modules loaded.')"
   ]
  },
  {
   "cell_type": "code",
   "execution_count": 2,
   "metadata": {
    "collapsed": false
   },
   "outputs": [
    {
     "name": "stdout",
     "output_type": "stream",
     "text": [
      "8036\n"
     ]
    }
   ],
   "source": [
    "import csv\n",
    "import random\n",
    "\n",
    "#samples=[]\n",
    "reduced_samples = []\n",
    "\n",
    "with open('data/driving_log.csv') as csvfile:\n",
    "    reader = csv.reader(csvfile)\n",
    "    for line in reader:\n",
    "        #samples.append(line)\n",
    "        reduced_samples.append(line)\n",
    "#samples.pop(0)  # remove the header\n",
    "reduced_samples.pop(0)\n",
    "#random.shuffle(samples)\n",
    "random.shuffle(reduced_samples)\n",
    "#reduced_sample_size = int(len(samples)/2)  #reduce sample size by 2\n",
    "#reduced_samples = []\n",
    "#for i in range(0,reduced_sample_size):\n",
    "    #reduced_samples.append(samples[i])\n",
    "#print(len(samples))\n",
    "print(len(reduced_samples))"
   ]
  },
  {
   "cell_type": "code",
   "execution_count": 3,
   "metadata": {
    "collapsed": false
   },
   "outputs": [],
   "source": [
    "# using generator code described in Behviral Cloning, 10: Generator\n",
    "from sklearn.model_selection import train_test_split\n",
    "train_samples, validation_samples = train_test_split(reduced_samples, test_size=0.2)\n",
    "\n",
    "import sklearn\n",
    "import matplotlib.pyplot as plt\n",
    "from numpy import array\n",
    "import cv2\n",
    "\n",
    "def generator(reduced_samples, batch_size=32):\n",
    "    gen_batch_size = int(batch_size/4)\n",
    "    num_samples = len(reduced_samples)  \n",
    "    str_corr = 0.18  # steering correction, used for left/right camera images\n",
    "    while 1: # Loop forever so the generator never terminates\n",
    "        for offset in range(0, num_samples, gen_batch_size):\n",
    "            batch_samples = reduced_samples[offset:offset+gen_batch_size]\n",
    "\n",
    "            images = []\n",
    "            steerings = []\n",
    "            \n",
    "            for batch_sample in batch_samples:\n",
    "                for i in range(0,3):\n",
    "                    path_name = 'data/' + (batch_sample[i].strip())\n",
    "                    road_image = cv2.imread(path_name)\n",
    "                    str_angle = float(batch_sample[3])\n",
    "                    if i == 1:  # left turn\n",
    "                        str_angle = float(batch_sample[3])+str_corr\n",
    "                    elif i == 2: # right turn\n",
    "                        str_angle = float(batch_sample[3])-str_corr\n",
    "                    images.append(road_image)\n",
    "                    steerings.append(str_angle)\n",
    "                    if i == 0:\n",
    "                        my_flipped_image = cv2.flip(road_image, 1)\n",
    "                        str_angle_flipped = -1.0*float(str_angle)\n",
    "                        images.append(my_flipped_image)\n",
    "                        steerings.append(str_angle_flipped)\n",
    "            \n",
    "            X_train = np.array(images)\n",
    "            y_train = np.array(steerings)\n",
    "            yield sklearn.utils.shuffle(X_train, y_train)\n",
    "    \n",
    "# compile and train the model using the generator function\n",
    "train_generator = generator(train_samples, batch_size=4)\n",
    "validation_generator = generator(validation_samples, batch_size=4)"
   ]
  },
  {
   "cell_type": "code",
   "execution_count": 4,
   "metadata": {
    "collapsed": false
   },
   "outputs": [
    {
     "name": "stderr",
     "output_type": "stream",
     "text": [
      "Using TensorFlow backend.\n"
     ]
    },
    {
     "name": "stdout",
     "output_type": "stream",
     "text": [
      "(None, 81, 316, 24)\n",
      "(None, 36, 154, 36)\n",
      "(None, 16, 75, 48)\n",
      "(None, 6, 35, 64)\n",
      "(None, 3264)\n",
      "(None, 10)\n"
     ]
    }
   ],
   "source": [
    "from keras.models import Sequential\n",
    "from keras.layers.core import Dense, Activation, Flatten, Dropout, Lambda\n",
    "from keras.layers.convolutional import Convolution2D, Cropping2D\n",
    "from keras.layers.pooling import MaxPooling2D\n",
    "from keras.layers.normalization import BatchNormalization\n",
    "\n",
    "model = Sequential()\n",
    "model.add(Lambda(lambda x: x/255.0 - 0.5, input_shape=(160, 320, 3)))\n",
    "model.add(Cropping2D(cropping=((50,25),(0,0))))\n",
    "model.add(Convolution2D(24, 5, 5, border_mode='valid'))\n",
    "print(model.output_shape)\n",
    "model.add(MaxPooling2D((2, 2)))\n",
    "model.add(Dropout(0.5))\n",
    "model.add(Activation('relu'))\n",
    "#model.add(BatchNormalization())\n",
    "\n",
    "model.add(Convolution2D(36, 5, 5, border_mode='valid'))\n",
    "print(model.output_shape)\n",
    "model.add(MaxPooling2D((2, 2)))\n",
    "model.add(Dropout(0.5))\n",
    "model.add(Activation('relu'))\n",
    "#model.add(BatchNormalization())\n",
    "\n",
    "model.add(Convolution2D(48, 3, 3, border_mode='valid'))\n",
    "print(model.output_shape)\n",
    "model.add(MaxPooling2D((2, 2)))\n",
    "model.add(Dropout(0.5))\n",
    "model.add(Activation('relu'))\n",
    "#model.add(BatchNormalization())\n",
    "          \n",
    "model.add(Convolution2D(64, 3, 3, border_mode='valid'))\n",
    "print(model.output_shape)\n",
    "model.add(MaxPooling2D((2, 2)))\n",
    "model.add(Dropout(0.5))\n",
    "model.add(Activation('relu'))\n",
    "\n",
    "model.add(Flatten())\n",
    "print(model.output_shape)\n",
    "model.add(Activation('relu'))\n",
    "model.add(Dense(100))\n",
    "model.add(Activation('relu'))\n",
    "model.add(Dense(10))\n",
    "print(model.output_shape)\n",
    "model.add(Activation('relu'))\n",
    "model.add(Dense(1))"
   ]
  },
  {
   "cell_type": "code",
   "execution_count": 5,
   "metadata": {
    "collapsed": false
   },
   "outputs": [
    {
     "name": "stdout",
     "output_type": "stream",
     "text": [
      "Epoch 1/5\n",
      "25712/25712 [==============================] - 213s - loss: 0.0186 - val_loss: 0.0160\n",
      "Epoch 2/5\n",
      "25712/25712 [==============================] - 208s - loss: 0.0165 - val_loss: 0.0153\n",
      "Epoch 3/5\n",
      "25712/25712 [==============================] - 208s - loss: 0.0161 - val_loss: 0.0163\n",
      "Epoch 4/5\n",
      "25712/25712 [==============================] - 210s - loss: 0.0161 - val_loss: 0.0161\n",
      "Epoch 5/5\n",
      "25712/25712 [==============================] - 208s - loss: 0.0157 - val_loss: 0.0155\n"
     ]
    },
    {
     "data": {
      "text/plain": [
       "<keras.callbacks.History at 0x7f5999a7d160>"
      ]
     },
     "execution_count": 5,
     "metadata": {},
     "output_type": "execute_result"
    }
   ],
   "source": [
    "#model.compile(optimizer='adam', loss='mse')\n",
    "#model.fit(X_train,y_train, validation_split=0.2,shuffle=True,nb_epoch=5)\n",
    "model.compile(loss='mse', optimizer='adam')\n",
    "model.fit_generator(train_generator,  \n",
    "                    validation_data=validation_generator,samples_per_epoch=len(train_samples)*4,\n",
    "                    nb_val_samples=len(validation_samples)*4, nb_epoch=5)"
   ]
  },
  {
   "cell_type": "code",
   "execution_count": 6,
   "metadata": {
    "collapsed": true
   },
   "outputs": [],
   "source": [
    "model.save('model.h5')"
   ]
  },
  {
   "cell_type": "code",
   "execution_count": null,
   "metadata": {
    "collapsed": true
   },
   "outputs": [],
   "source": []
  }
 ],
 "metadata": {
  "kernelspec": {
   "display_name": "Python 3",
   "language": "python",
   "name": "python3"
  },
  "language_info": {
   "codemirror_mode": {
    "name": "ipython",
    "version": 3
   },
   "file_extension": ".py",
   "mimetype": "text/x-python",
   "name": "python",
   "nbconvert_exporter": "python",
   "pygments_lexer": "ipython3",
   "version": "3.5.2"
  },
  "widgets": {
   "state": {},
   "version": "1.1.2"
  }
 },
 "nbformat": 4,
 "nbformat_minor": 2
}
